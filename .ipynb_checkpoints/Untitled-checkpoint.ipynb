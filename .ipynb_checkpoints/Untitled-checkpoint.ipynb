{
 "cells": [
  {
   "cell_type": "code",
   "execution_count": 1,
   "metadata": {
    "collapsed": true
   },
   "outputs": [],
   "source": [
    "from bokeh.plotting import show, figure\n",
    "import pandas as pd"
   ]
  },
  {
   "cell_type": "code",
   "execution_count": 24,
   "metadata": {
    "collapsed": false
   },
   "outputs": [],
   "source": [
    "housemates = ['Speidi', 'Bianca', 'Boleen', 'James', 'Stacy', 'Nicola', 'Jamie', 'Calum', 'Jessica', 'Kim', 'Chloe', 'Jedward']\n",
    "\n",
    "p = figure(title=\"Number of Negative Tweets Per Housemate\", x_range=housemates, y_range=(0, 50), toolbar_location=None, plot_width=600, plot_height=500)\n",
    "p.border_fill_color = 'white'\n",
    "p.background_fill_color = '#0099ff'\n",
    "p.outline_line_color = 'black'\n",
    "p.outline_line_width = 10\n",
    "p.grid.grid_line_color = None\n",
    "p.yaxis.axis_label = 'Number of Negative Tweets'\n",
    "p.xaxis.axis_label = 'BB Housemates'\n",
    "\n",
    "r = p.quad(left=[], right=[], top=[], bottom=[], color=\"#f9027d\", line_width=6, line_color='black')\n",
    "\n",
    "ds = r.data_source\n",
    "lefts = [0,1,2,3,4,5,6,7,8,9,10,11,12]\n",
    "new_data = dict()\n",
    "new_data['left'] = ds.data['left'] + [start-0.25 for start in lefts] \n",
    "new_data['right'] = ds.data['right'] + [start+0.5 for start in new_data['left']]\n",
    "new_data['top'] = ds.data['top'] + [10,2,6,14,1,5,4,12,9,3,7,10,4]\n",
    "new_data['bottom'] = ds.data['bottom'] + [0,0,0,0,0,0,0,0,0,0,0,0,0]\n",
    "ds.data = new_data\n",
    "\n",
    "show(p)"
   ]
  },
  {
   "cell_type": "code",
   "execution_count": null,
   "metadata": {
    "collapsed": true
   },
   "outputs": [],
   "source": []
  },
  {
   "cell_type": "code",
   "execution_count": null,
   "metadata": {
    "collapsed": true
   },
   "outputs": [],
   "source": []
  },
  {
   "cell_type": "code",
   "execution_count": null,
   "metadata": {
    "collapsed": true
   },
   "outputs": [],
   "source": []
  }
 ],
 "metadata": {
  "kernelspec": {
   "display_name": "Python 3",
   "language": "python",
   "name": "python3"
  },
  "language_info": {
   "codemirror_mode": {
    "name": "ipython",
    "version": 3
   },
   "file_extension": ".py",
   "mimetype": "text/x-python",
   "name": "python",
   "nbconvert_exporter": "python",
   "pygments_lexer": "ipython3",
   "version": "3.5.2"
  }
 },
 "nbformat": 4,
 "nbformat_minor": 0
}
