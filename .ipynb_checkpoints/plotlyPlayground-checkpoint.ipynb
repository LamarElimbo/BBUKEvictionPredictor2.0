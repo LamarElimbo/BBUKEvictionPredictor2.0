{
 "cells": [
  {
   "cell_type": "code",
   "execution_count": 13,
   "metadata": {
    "collapsed": false
   },
   "outputs": [],
   "source": [
    "import plotly.plotly as py\n",
    "import plotly \n",
    "import plotly.graph_objs as go\n",
    "import plotly.tools as tls   \n",
    "import pandas as pd\n",
    "import codecs\n",
    "m = codecs.open('cbbTweets.csv', \"r\",encoding='utf-8', errors='ignore')\n",
    "tweetsDF = pd.read_csv(m)"
   ]
  },
  {
   "cell_type": "code",
   "execution_count": 14,
   "metadata": {
    "collapsed": false
   },
   "outputs": [
    {
     "name": "stdout",
     "output_type": "stream",
     "text": [
      "['z64aoytaq6', '6pvqyy1f6c']\n"
     ]
    }
   ],
   "source": [
    "plotly.tools.set_credentials_file(username='DemoAccount', api_key='UArfaAKaj0gh1SPDjLKt', stream_ids=['z64aoytaq6', '6pvqyy1f6c'])\n",
    "stream_ids = tls.get_credentials_file()['stream_ids']\n",
    "print(stream_ids)"
   ]
  },
  {
   "cell_type": "code",
   "execution_count": 2,
   "metadata": {
    "collapsed": true
   },
   "outputs": [],
   "source": [
    "def getPosCounts(housemates):\n",
    "    housemateCounts=[]\n",
    "    for housemate in housemates:\n",
    "        housemateCount = len(tweetsDF[(tweetsDF['housemate'] == housemate)\n",
    "                                  & (tweetsDF['sentiment'] == \"pos\")])\n",
    "        housemateCounts.append(housemateCount)\n",
    "    return housemateCounts\n",
    "\n",
    "def getNegCounts(housemates):\n",
    "    housemateCounts=[]\n",
    "    for housemate in housemates:\n",
    "        housemateCount = len(tweetsDF[(tweetsDF['housemate'] == housemate)\n",
    "                                  & (tweetsDF['sentiment'] == \"neg\")])\n",
    "        housemateCounts.append(housemateCount)\n",
    "    return housemateCounts\n",
    "        "
   ]
  },
  {
   "cell_type": "code",
   "execution_count": 7,
   "metadata": {
    "collapsed": true
   },
   "outputs": [
    {
     "data": {
      "text/html": [
       "<iframe id=\"igraph\" scrolling=\"no\" style=\"border:none;\" seamless=\"seamless\" src=\"https://plot.ly/~lamjo/1.embed\" height=\"525px\" width=\"100%\"></iframe>"
      ],
      "text/plain": [
       "<plotly.tools.PlotlyDisplay object>"
      ]
     },
     "execution_count": 7,
     "metadata": {},
     "output_type": "execute_result"
    }
   ],
   "source": [
    "remainingHousemates=['speidi', 'bianca', 'coleen', 'james', 'stacy', 'nicola', 'jamie', 'calum', 'jessica', 'kim', 'jedward']\n",
    "\n",
    "# Get stream id from stream id list \n",
    "stream_id = stream_ids[0, 1]\n",
    "\n",
    " Make instance of stream id object \n",
    "stream_1 = go.Stream(\n",
    "    token=stream_id[0]  # link stream id to 'token' key\n",
    ")\n",
    "stream_2 = go.Stream(\n",
    "    token=stream_id[1]  # link stream id to 'token' key\n",
    ")\n",
    "\n",
    "pos = go.Bar(\n",
    "    x=remainingHousemates,\n",
    "    y=getPosCounts(remainingHousemates),\n",
    "    name='Positive Tweets',\n",
    "    marker=dict(\n",
    "        color='rgba(55, 128, 191, 0.7)',\n",
    "        line=dict(\n",
    "            color='rgba(55, 128, 191, 1.0)',\n",
    "            width=2,\n",
    "        )\n",
    "    ),\n",
    "    stream=stream_1\n",
    ")\n",
    "\n",
    "neg = go.Bar(\n",
    "    x=remainingHousemates,\n",
    "    y=getNegCounts(remainingHousemates),\n",
    "    name='Negative Tweets',\n",
    "    marker=dict(\n",
    "        color='rgba(219, 64, 82, 0.7)',\n",
    "        line=dict(\n",
    "            color='rgba(219, 64, 82, 1.0)',\n",
    "            width=2,\n",
    "        )\n",
    "    ),\n",
    "    stream=stream_2\n",
    ")\n",
    "\n",
    "data = go.Data([pos, neg])\n",
    "layout = go.Layout(\n",
    "    title='Number of Pos vs Neg Tweets About the Housemates',\n",
    "    barmode='group'\n",
    ")\n",
    "\n",
    "fig = go.Figure(data=data, layout=layout)\n",
    "py.iplot(fig, filename='grouped-bar')"
   ]
  },
  {
   "cell_type": "code",
   "execution_count": null,
   "metadata": {
    "collapsed": true
   },
   "outputs": [],
   "source": [
    "# provide the stream link object the same token that's associated with the trace we wish to stream to\n",
    "s_1 = py.Stream(stream_id=stream_1)\n",
    "s_2 = py.Stream(stream_id=stream_2)\n",
    "\n",
    "#open connection\n",
    "s_1.open()\n",
    "s_2.open()"
   ]
  },
  {
   "cell_type": "code",
   "execution_count": null,
   "metadata": {
    "collapsed": true
   },
   "outputs": [],
   "source": [
    "while True:\n",
    "            \n",
    "    # Send data to your plot\n",
    "    s_1.write(dict(x=remainingHousemates, y=getPosCounts(remainingHousemates)))  \n",
    "    s_2.write(dict(x=remainingHousemates, y=getNegCounts(remainingHousemates)))  \n",
    "    \n",
    "    #     Write numbers to stream to append current data on plot,\n",
    "    #     write lists to overwrite existing data on plot\n",
    "            \n",
    "    time.sleep(1)  # plot a point every second    \n",
    "# Close the stream when done plotting\n",
    "s_1.close() \n",
    "s_2.close() "
   ]
  }
 ],
 "metadata": {
  "kernelspec": {
   "display_name": "Python 3",
   "language": "python",
   "name": "python3"
  },
  "language_info": {
   "codemirror_mode": {
    "name": "ipython",
    "version": 3
   },
   "file_extension": ".py",
   "mimetype": "text/x-python",
   "name": "python",
   "nbconvert_exporter": "python",
   "pygments_lexer": "ipython3",
   "version": "3.5.2"
  }
 },
 "nbformat": 4,
 "nbformat_minor": 0
}
